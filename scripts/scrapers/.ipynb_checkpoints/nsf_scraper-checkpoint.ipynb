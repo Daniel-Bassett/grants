{
 "cells": [
  {
   "cell_type": "code",
   "execution_count": 1,
   "id": "b986eeb9",
   "metadata": {},
   "outputs": [],
   "source": [
    "import pandas as pd\n",
    "import requests\n",
    "from bs4 import BeautifulSoup\n",
    "\n",
    "from selenium import webdriver\n",
    "from selenium.webdriver.common.keys import Keys\n",
    "from selenium.webdriver.common.by import By\n",
    "from selenium.webdriver.chrome.service import Service\n",
    "from webdriver_manager.chrome import ChromeDriverManager\n",
    "from selenium.webdriver.common.action_chains import ActionChains\n",
    "from selenium.webdriver.support.wait import WebDriverWait\n",
    "from selenium.webdriver.support import expected_conditions as EC \n",
    "import time\n",
    "import os"
   ]
  },
  {
   "cell_type": "code",
   "execution_count": 2,
   "id": "3629a52c",
   "metadata": {},
   "outputs": [],
   "source": [
    "search_terms = [\n",
    "    'Electric Vehicles', 'Automotive', 'IT ICT',\n",
    "    'Biotech', 'Energy', 'Agriculture Tech', 'Bluetech',\n",
    "    'Digital Innovation', 'Industrial Modernization', 'Health & Wellness',\n",
    "    'Robotics', 'Automation', 'Electronics',\n",
    "    'Climate Tech', 'Aerospace', 'Cybersecurity',\n",
    "    'Blockchain'\n",
    "]"
   ]
  },
  {
   "cell_type": "code",
   "execution_count": 3,
   "id": "90841f53",
   "metadata": {},
   "outputs": [],
   "source": [
    "def get_cookies(search_term):\n",
    "    driver = webdriver.Chrome()\n",
    "    driver.get(f'https://www.nsf.gov/awardsearch/simpleSearchResult?queryText={search_term}')\n",
    "    time.sleep(5)\n",
    "    cookies = driver.get_cookies()\n",
    "    session_cookies = {c['name']: c['value'] for c in cookies}\n",
    "    return session_cookies"
   ]
  },
  {
   "cell_type": "code",
   "execution_count": 4,
   "id": "c10825f7",
   "metadata": {},
   "outputs": [],
   "source": [
    "def get_csv(session_cookies, search_term):\n",
    "    filename = '_'.join(search_term.split(' '))\n",
    "    file_path = os.path.join('../../raw_data', f'{filename}.csv')\n",
    "    # URL from which to download the CSV file\n",
    "    csv_url = 'https://www.nsf.gov/awardsearch/ExportResultServlet?exportType=csv'\n",
    "\n",
    "    # Headers based on the information you provided\n",
    "    headers = {\n",
    "        'User-Agent': 'Mozilla/5.0 (Windows NT 10.0; Win64; x64) AppleWebKit/537.36 (KHTML, like Gecko) Chrome/119.0.0.0 Safari/537.36 Edg/119.0.0.0',\n",
    "        'Accept': 'text/html,application/xhtml+xml,application/xml;q=0.9,image/webp,image/apng,*/*;q=0.8,application/signed-exchange;v=b3;q=0.7',\n",
    "        'Accept-Language': 'en-US,en;q=0.9',\n",
    "        'Referer': f'https://www.nsf.gov/awardsearch/simpleSearchResult?queryText={search_term.split(\"+\")}'\n",
    "    }\n",
    "\n",
    "    # Cookies that are necessary to maintain the session\n",
    "    cookies = {\n",
    "        'JSESSIONID': session_cookies['JSESSIONID'],\n",
    "        'WT_FPC': session_cookies['WT_FPC']\n",
    "    }\n",
    "\n",
    "    # Send GET request to download the CSV file\n",
    "    response = requests.get(csv_url, headers=headers, cookies=cookies)\n",
    "\n",
    "    # Check if the request was successful\n",
    "    if response.status_code == 200:\n",
    "        # Save the CSV content to a file\n",
    "        with open(file_path, 'wb') as file:\n",
    "            file.write(response.content)\n",
    "        print(f\"{search_term} file downloaded successfully.\")\n",
    "    else:\n",
    "        print(f\"Failed to download the CSV file. Status code: {response.status_code}\")"
   ]
  },
  {
   "cell_type": "code",
   "execution_count": 6,
   "id": "23ce8510",
   "metadata": {},
   "outputs": [
    {
     "name": "stdout",
     "output_type": "stream",
     "text": [
      "Electric Vehicles file downloaded successfully.\n",
      "Automotive file downloaded successfully.\n"
     ]
    }
   ],
   "source": [
    "for search_term in search_terms:\n",
    "    session_cookies = get_cookies(search_term)\n",
    "    get_csv(session_cookies, search_term)"
   ]
  },
  {
   "cell_type": "code",
   "execution_count": null,
   "id": "effd9cdf",
   "metadata": {},
   "outputs": [],
   "source": []
  }
 ],
 "metadata": {
  "kernelspec": {
   "display_name": "Python [conda env:health-inspections]",
   "language": "python",
   "name": "conda-env-health-inspections-py"
  },
  "language_info": {
   "codemirror_mode": {
    "name": "ipython",
    "version": 3
   },
   "file_extension": ".py",
   "mimetype": "text/x-python",
   "name": "python",
   "nbconvert_exporter": "python",
   "pygments_lexer": "ipython3",
   "version": "3.10.8"
  }
 },
 "nbformat": 4,
 "nbformat_minor": 5
}
