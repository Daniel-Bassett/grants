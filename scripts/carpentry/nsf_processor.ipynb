{
 "cells": [
  {
   "cell_type": "code",
   "execution_count": 15,
   "id": "1e3047a2",
   "metadata": {},
   "outputs": [],
   "source": [
    "import pandas as pd\n",
    "import glob\n",
    "from datetime import date, timedelta"
   ]
  },
  {
   "cell_type": "code",
   "execution_count": 16,
   "id": "5ec55021",
   "metadata": {},
   "outputs": [],
   "source": [
    "csv_files = glob.glob('../../raw_data/*.csv')"
   ]
  },
  {
   "cell_type": "code",
   "execution_count": 17,
   "id": "97f94f22",
   "metadata": {},
   "outputs": [],
   "source": [
    "dataframes = []  \n",
    "for file in csv_files:\n",
    "    df = pd.read_csv(file, encoding='iso-8859-1')\n",
    "    dataframes.append(df)\n",
    "\n",
    "combined_dataframe = pd.concat(dataframes, ignore_index=True)\n",
    "\n",
    "df = combined_dataframe.drop_duplicates().copy()"
   ]
  },
  {
   "cell_type": "code",
   "execution_count": 18,
   "id": "6c4ba485",
   "metadata": {},
   "outputs": [],
   "source": [
    "for col in df.columns:\n",
    "    df[col] = df[col].astype(str)"
   ]
  },
  {
   "cell_type": "code",
   "execution_count": 19,
   "id": "ffbad1af",
   "metadata": {
    "scrolled": true
   },
   "outputs": [
    {
     "name": "stderr",
     "output_type": "stream",
     "text": [
      "C:\\Users\\Daniel\\AppData\\Local\\Temp\\ipykernel_31908\\4258261122.py:1: DeprecationWarning: In a future version, `df.iloc[:, i] = newvals` will attempt to set the values inplace instead of always setting a new array. To retain the old behavior, use either `df[df.columns[i]] = newvals` or, if columns are non-unique, `df.isetitem(i, newvals)`\n",
      "  df.loc[:, 'AwardedAmountToDate'] = df['AwardedAmountToDate'].str.replace('[\\$,]', '', regex=True).astype(float)\n",
      "C:\\Users\\Daniel\\AppData\\Local\\Temp\\ipykernel_31908\\4258261122.py:2: DeprecationWarning: In a future version, `df.iloc[:, i] = newvals` will attempt to set the values inplace instead of always setting a new array. To retain the old behavior, use either `df[df.columns[i]] = newvals` or, if columns are non-unique, `df.isetitem(i, newvals)`\n",
      "  df.loc[:, 'ARRAAmount'] = df['ARRAAmount'].str.replace('[\\$,]', '', regex=True).astype(float)\n"
     ]
    }
   ],
   "source": [
    "df.loc[:, 'AwardedAmountToDate'] = df['AwardedAmountToDate'].str.replace('[\\$,]', '', regex=True).astype(float)\n",
    "df.loc[:, 'ARRAAmount'] = df['ARRAAmount'].str.replace('[\\$,]', '', regex=True).astype(float)\n",
    "\n",
    "df.loc[:, 'OrganizationPhone'] = df['OrganizationPhone'].astype(str)\n",
    "df.loc[:, 'OrganizationPhone'] = df['OrganizationPhone'].str.replace('.0', '', regex=True)\n",
    "\n",
    "df['start_year'] = pd.to_datetime(df['StartDate']).dt.year\n",
    "df['start_month'] = pd.to_datetime(df['StartDate']).dt.month"
   ]
  },
  {
   "cell_type": "code",
   "execution_count": 20,
   "id": "7e80d0c3",
   "metadata": {},
   "outputs": [],
   "source": [
    "df.to_parquet('../../processed_data/nsf.parquet', index=False)"
   ]
  }
 ],
 "metadata": {
  "kernelspec": {
   "display_name": "Python [conda env:health-inspections]",
   "language": "python",
   "name": "conda-env-health-inspections-py"
  },
  "language_info": {
   "codemirror_mode": {
    "name": "ipython",
    "version": 3
   },
   "file_extension": ".py",
   "mimetype": "text/x-python",
   "name": "python",
   "nbconvert_exporter": "python",
   "pygments_lexer": "ipython3",
   "version": "3.10.8"
  }
 },
 "nbformat": 4,
 "nbformat_minor": 5
}
